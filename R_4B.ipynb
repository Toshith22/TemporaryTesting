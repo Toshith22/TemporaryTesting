{
  "nbformat": 4,
  "nbformat_minor": 0,
  "metadata": {
    "colab": {
      "machine_shape": "hm",
      "gpuType": "T4",
      "provenance": [],
      "include_colab_link": true
    },
    "accelerator": "GPU",
    "kaggle": {
      "accelerator": "gpu"
    }
  },
  "cells": [
    {
      "cell_type": "markdown",
      "metadata": {
        "id": "view-in-github",
        "colab_type": "text"
      },
      "source": [
        "<a href=\"https://colab.research.google.com/github/Toshith22/TemporaryTesting/blob/main/R_4B.ipynb\" target=\"_parent\"><img src=\"https://colab.research.google.com/assets/colab-badge.svg\" alt=\"Open In Colab\"/></a>"
      ]
    },
    {
      "cell_type": "code",
      "source": [
        "!pip install -U transformers"
      ],
      "metadata": {
        "id": "2WN3pGT7mWnw"
      },
      "execution_count": null,
      "outputs": []
    },
    {
      "cell_type": "markdown",
      "source": [
        "## Local Inference on GPU\n",
        "Model page: https://huggingface.co/YannQi/R-4B\n",
        "\n",
        "⚠️ If the generated code snippets do not work, please open an issue on either the [model repo](https://huggingface.co/YannQi/R-4B)\n",
        "\t\t\tand/or on [huggingface.js](https://github.com/huggingface/huggingface.js/blob/main/packages/tasks/src/model-libraries-snippets.ts) 🙏"
      ],
      "metadata": {
        "id": "xxZU5KDmmWnw"
      }
    },
    {
      "cell_type": "code",
      "source": [
        "from transformers import AutoModel, AutoProcessor\n",
        "from PIL import Image\n",
        "import requests\n",
        "\n",
        "# Load the model and processor separately\n",
        "model = AutoModel.from_pretrained(\"YannQi/R-4B\", trust_remote_code=True, torch_dtype=\"auto\")\n",
        "processor = AutoProcessor.from_pretrained(\"YannQi/R-4B\", trust_remote_code=True)\n",
        "\n",
        "messages = [\n",
        "    {\n",
        "        \"role\": \"user\",\n",
        "        \"content\": [\n",
        "            {\"type\": \"image\", \"url\": \"https://huggingface.co/datasets/huggingface/documentation-images/resolve/main/p-blog/candy.JPG\"},\n",
        "            {\"type\": \"text\", \"text\": \"What animal is on the candy?\"}\n",
        "        ]\n",
        "    },\n",
        "]\n",
        "\n",
        "# Extract image and text content from the messages\n",
        "image_url = messages[0][\"content\"][0][\"url\"]\n",
        "text_input = messages[0][\"content\"][1][\"text\"]\n",
        "\n",
        "# Load the image from the URL\n",
        "image = Image.open(requests.get(image_url, stream=True).raw)\n",
        "\n",
        "# Process the input using the processor which handles both text and image\n",
        "inputs = processor(text=text_input, images=image, return_tensors=\"pt\")\n",
        "\n",
        "# Move the model to the same device as inputs if needed\n",
        "# if torch.cuda.is_available():\n",
        "#     model.to(\"cuda\")\n",
        "#     inputs = {k: v.to(\"cuda\") for k, v in inputs.items()}\n",
        "\n",
        "# Generate a response\n",
        "outputs = model.generate(**inputs)\n",
        "\n",
        "# Decode the generated output\n",
        "decoded_output = processor.decode(outputs[0], skip_special_tokens=True)\n",
        "\n",
        "print(decoded_output)"
      ],
      "metadata": {
        "id": "QpfaMXbDmWnx"
      },
      "execution_count": null,
      "outputs": []
    },
    {
      "cell_type": "code",
      "source": [
        "# Load model directly\n",
        "from transformers import AutoModel\n",
        "model = AutoModel.from_pretrained(\"YannQi/R-4B\", trust_remote_code=True, torch_dtype=\"auto\")"
      ],
      "metadata": {
        "id": "rc5XAr5CmWny"
      },
      "execution_count": null,
      "outputs": []
    }
  ]
}